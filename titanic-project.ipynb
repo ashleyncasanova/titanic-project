{
 "cells": [
  {
   "cell_type": "markdown",
   "metadata": {},
   "source": [
    "#### [Titanic Project](https://www.kaggle.com/datasets/shubhamgupta012/titanic-dataset)\n",
    "\n",
    "The Titanic Passenger dataset provides information about passengers who were aboard the RMS Titanic during its ill-fated maiden voyage. This dataset is often used for exploring patterns and factors associated with survival on the Titanic.\n",
    "\n",
    "The dataset includes the following columns:\n",
    "\n",
    "PassengerId: Unique identifier for each passenger.\n",
    "Survived: Survival status of the passenger (0 = Not Survived, 1 = Survived).\n",
    "Pclass: Passenger class (1 = First class, 2 = Second class, 3 = Third class).\n",
    "Sex: Gender of the passenger.\n",
    "Age: Age of the passenger.\n",
    "SibSp: Number of siblings/spouses aboard the Titanic.\n",
    "Parch: Number of parents/children aboard the Titanic.\n",
    "Fare: Fare paid by the passenger.\n",
    "Embarked: Port of embarkation (C = Cherbourg, Q = Queenstown, S = Southampton)."
   ]
  }
 ],
 "metadata": {
  "language_info": {
   "name": "python"
  },
  "orig_nbformat": 4
 },
 "nbformat": 4,
 "nbformat_minor": 2
}
